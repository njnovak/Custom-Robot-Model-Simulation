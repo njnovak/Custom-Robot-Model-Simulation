{
 "cells": [
  {
   "cell_type": "markdown",
   "metadata": {},
   "source": [
    "## Inverse Kinematics Calculations For The Serial Link Arm"
   ]
  },
  {
   "cell_type": "code",
   "execution_count": 14,
   "metadata": {},
   "outputs": [],
   "source": [
    "from sympy import *\n",
    "import numpy as np"
   ]
  },
  {
   "cell_type": "code",
   "execution_count": 15,
   "metadata": {},
   "outputs": [],
   "source": [
    "# pass the dh paramters matrix in order to construct \n",
    "# the A transformation for each frame to the one before\n",
    "\n",
    "def construct_a_matrices(dh_matrix): \n",
    "    \n",
    "    a_matrices = []\n",
    "\n",
    "    for i in range(0, dh_matrix.rows):\n",
    "\n",
    "        alpha = dh_matrix.row(i)[0]\n",
    "        a = dh_matrix.row(i)[1]\n",
    "        theta = dh_matrix.row(i)[2]\n",
    "        d = dh_matrix.row(i)[3]\n",
    "\n",
    "        # following the defualt model of the a matrix\n",
    "        a_trans = Matrix([[cos(theta), -sin(theta)*cos(alpha), sin(theta)*sin(alpha) , a*cos(theta)], \n",
    "                        [sin(theta), cos(theta)*cos(alpha) , -cos(theta)*sin(alpha), a*sin(theta)], \n",
    "                        [0         , sin(alpha)            , cos(alpha)            , d           ], \n",
    "                        [0         , 0                     , 0                     , 1           ]])\n",
    "\n",
    "        a_matrices.append(a_trans)\n",
    "\n",
    "\n",
    "    return a_matrices"
   ]
  },
  {
   "cell_type": "code",
   "execution_count": 16,
   "metadata": {},
   "outputs": [],
   "source": [
    "# create transformation matrices from each frame to origin by \n",
    "# multiplying each a matrix to one another iteratively\n",
    "\n",
    "def create_frame_to_origin_transformations(a_matrices):\n",
    "    \n",
    "\n",
    "    # start with an identity matrix because we need something to multiply the first matrix by\n",
    "    trans = eye(4)\n",
    "\n",
    "\n",
    "    # keep an array of each transformation matrix to construct jacobians later\n",
    "    transformation_matrices = [trans]\n",
    "\n",
    "    for matrix in a_matrices:\n",
    "        trans = trans*matrix\n",
    "        transformation_matrices.append(trans)\n",
    "\n",
    "\n",
    "    return transformation_matrices"
   ]
  },
  {
   "cell_type": "code",
   "execution_count": 17,
   "metadata": {},
   "outputs": [],
   "source": [
    "# construct the jacobian given the tranformation matrices for each frame to the world frame\n",
    "# grab the z and o vectors for the previous and current frames repectively\n",
    "\n",
    "def construct_jacobian(transformation_matrices):\n",
    "\n",
    "    o_n = transformation_matrices[-1]*Matrix([0, 0, 0, 1])\n",
    "    o_n.row_del(3)\n",
    "\n",
    "    jacobian = Matrix()\n",
    "\n",
    "    # start from index 1 to the end because we only want\n",
    "    # 7 columns in the jacobian, one for each joint\n",
    "    # we are just ignoring the identity matric in the first index\n",
    "    for i in range(1, len(transformation_matrices)-1):\n",
    "\n",
    "        # get the z_i-1 vector from the transformation matrix of the last frame\n",
    "        z = transformation_matrices[i-1]*Matrix([0, 0, 1, 0])\n",
    "        z.row_del(3)\n",
    "\n",
    "        o_i = transformation_matrices[i]*Matrix([0, 0, 0, 1])\n",
    "        o_i.row_del(3)\n",
    "\n",
    "        jacobian_column = z.cross(o_n - o_i).col_join(z)\n",
    "        jacobian = jacobian.row_join(jacobian_column)\n",
    "\n",
    "    return jacobian"
   ]
  },
  {
   "cell_type": "code",
   "execution_count": 18,
   "metadata": {},
   "outputs": [],
   "source": [
    "def generate_linear_slopes():\n",
    "\n",
    "    # Generate the linear velocities that will be used in conjuntion with the instantaneous jacobian \n",
    "    # to derive the q_dot values\n",
    "\n",
    "    dx  = []\n",
    "    dy = []\n",
    "    dz = []\n",
    "    dth = []\n",
    "    dphi = []\n",
    "    drho = []\n",
    "\n",
    "\n",
    "    # theta(t) = pi/2 + 2pi/5t\n",
    "\n",
    "    # x = 0.18cos(pi/2 - pi/2*t)\n",
    "    # dx = 0.36pi sin(pi/2 - pi/2*t)\n",
    "    # z = 0.18sin(pi/2 - pi/2*t)\n",
    "    # dz = -0.36pi cos(pi/2 - pi/2*t)\n",
    "\n",
    "\n",
    "    for t in np.arange(0, 1, 0.02):\n",
    "        dx.append(0.24*pi*sin(pi/2 - pi/2*t))\n",
    "        dy.append(0)\n",
    "        dz.append(-0.24*pi*cos(pi/2 - pi/2*t))\n",
    "        dth.append(0)\n",
    "        dphi.append(0)\n",
    "        drho.append(0)\n",
    "\n",
    "    return dx, dy, dz, dth, dphi, drho"
   ]
  },
  {
   "cell_type": "code",
   "execution_count": 19,
   "metadata": {},
   "outputs": [],
   "source": [
    "def generate_poses(jacobian):\n",
    "\n",
    "    pose = Matrix([0.01, 0, 0, 0, 0, 0])\n",
    "    poses = [pose]\n",
    "\n",
    "    dx, dy, dz, dth, dphi, drho = generate_linear_slopes()\n",
    "\n",
    "    for i in range(len(dx)):\n",
    "        inst_jacobian = jacobian.subs(theta_1, pose[0]).subs(theta_2, pose[1]).subs(theta_3, pose[2]).subs(theta_4, pose[3]).subs(theta_5, pose[4]).subs(theta_6, pose[5])\n",
    "        inv = N(inst_jacobian.pinv())\n",
    "\n",
    "        linear_slopes = Matrix([dx[i], dy[i], dz[i], dth[i], dphi[i], drho[i]])\n",
    "\n",
    "        dq = N(inv*linear_slopes)\n",
    "        \n",
    "        pose = pose + (dq*0.02)\n",
    "        pose = pose % N(pi/2)\n",
    "        poses.append(pose)\n",
    "\n",
    "        print(pose)\n",
    "\n",
    "    return poses\n"
   ]
  },
  {
   "cell_type": "code",
   "execution_count": 20,
   "metadata": {},
   "outputs": [],
   "source": [
    "def get_end_affector_position(ee_frame, poses):\n",
    "\n",
    "    ee_positions = [[],[],[]]\n",
    "    for pose in poses:\n",
    "        ee_pos = ee_frame.subs(theta_1, pose[0]).subs(theta_2, pose[1]).subs(theta_3, pose[2]).subs(theta_4, pose[3]).subs(theta_5, pose[4]).subs(theta_6, pose[5])\n",
    "        ee_pos = ee_pos*Matrix([0, 0, 0, 1])\n",
    "        ee_positions[0].append(ee_pos[0])\n",
    "        ee_positions[1].append(ee_pos[1])\n",
    "        ee_positions[2].append(ee_pos[2])\n",
    "\n",
    "        print(ee_pos)\n",
    "\n",
    "\n",
    "    return ee_positions\n"
   ]
  },
  {
   "cell_type": "code",
   "execution_count": 21,
   "metadata": {},
   "outputs": [],
   "source": [
    "# d1 = symbols('d1')\n",
    "# d3 = symbols('d3')\n",
    "# d5 = symbols('d5')\n",
    "# d7 = symbols('d7')\n",
    "\n",
    "d1 = 0.045\n",
    "d3 = 0.06\n",
    "d5 = 0.06\n",
    "d_e = 0.06\n",
    "\n",
    "theta_1 = symbols('theta_1')\n",
    "theta_2 = symbols('theta_2')\n",
    "theta_3 = symbols('theta_3')\n",
    "theta_4 = symbols('theta_4')\n",
    "theta_5 = symbols('theta_5')\n",
    "theta_6 = symbols('theta_6')\n",
    "\n",
    "\n",
    "dh_matrix = Matrix([[-pi/2, 0,theta_1, d1], \n",
    "                   [pi/2,  0, theta_2, 0], \n",
    "                   [-pi/2,  0, theta_3, d3], \n",
    "                   [pi/2, 0, theta_4, 0], \n",
    "                   [pi/2, 0, theta_5, d5], \n",
    "                   [-pi/2,  0, theta_6, 0], \n",
    "                   [0,     0,       0, d_e]])\n",
    "\n",
    "                   \n"
   ]
  },
  {
   "cell_type": "code",
   "execution_count": 22,
   "metadata": {},
   "outputs": [
    {
     "data": {
      "text/plain": [
       "(6, 6)"
      ]
     },
     "execution_count": 22,
     "metadata": {},
     "output_type": "execute_result"
    }
   ],
   "source": [
    "# calculate the paramteric jacobian based on the transformation matrices\n",
    "\n",
    "a_matrices = construct_a_matrices(dh_matrix)\n",
    "transformation_matrices = create_frame_to_origin_transformations(a_matrices)\n",
    "\n",
    "j = construct_jacobian(transformation_matrices)\n",
    "j.shape\n"
   ]
  },
  {
   "cell_type": "code",
   "execution_count": 23,
   "metadata": {},
   "outputs": [
    {
     "name": "stdout",
     "output_type": "stream",
     "text": [
      "Matrix([[0.0100000000000000], [0.125657423010650], [0], [1.57079632679490], [0], [0.125657423010650]])\n",
      "Matrix([[1.56075282374024], [0.375857122914374], [0.0198854698299375], [1.29694777426121], [1.56828433468810], [0.102008570380685]])\n",
      "Matrix([[1.09391350354244], [0.493221589581401], [0.650222683133030], [1.31195143077325], [0.0855221894918294], [1.07715039721471]])\n",
      "Matrix([[0.640763623813308], [0.610850376053435], [1.11035778669689], [1.31350555799317], [1.40678730086497], [1.04232234731442]])\n",
      "Matrix([[0.847433484384496], [0.305745821270091], [0.281281873706792], [1.25101465635065], [0.319150309762524], [0.479664640790586]])\n",
      "Matrix([[0.246210808920798], [0.476918058471577], [0.923541630001283], [1.12420116916009], [0.0873334741293456], [0.466390909274904]])\n",
      "Matrix([[0.180458386234092], [0.725633736181526], [1.07835748480291], [0.922832257929055], [1.42112790219038], [0.390630055824352]])\n",
      "Matrix([[0.939631619944492], [0.112190991099110], [0.249224810438225], [0.619529641220237], [0.00616796136767972], [0.959558449656254]])\n",
      "Matrix([[0.608567950326463], [0.199508405942403], [0.888695840422153], [0.666697323703128], [1.18381874936172], [1.03882893282967]])\n",
      "Matrix([[0.964285842359804], [0.474687698925925], [1.16244431151642], [0.727824805079314], [0.444224783037064], [1.16515918666748]])\n",
      "Matrix([[0.515030885372887], [0.632802629318841], [0.252927697415419], [0.863720022135626], [0.0980560005675505], [1.17648765311034]])\n",
      "Matrix([[0.348505959206894], [0.891273584945744], [0.514917993963746], [0.568328302687121], [1.46422541992667], [1.10636190666767]])\n",
      "Matrix([[0.976944990583480], [0.290898462546116], [0.555585013221418], [0.0389867522446459], [1.56181898288686], [0.708561794651358]])\n",
      "Matrix([[1.18986755157185], [1.06761663528122], [0.252190916607992], [1.44422371576618], [1.09059270137225], [0.0411724093788433]])\n",
      "Matrix([[0.997766673207087], [1.19405188455814], [0.325748234672872], [1.34113417476271], [0.900040629342958], [1.56294582166674]])\n",
      "Matrix([[0.894638399497665], [1.33115148174290], [0.300921967858428], [1.16909953598128], [0.783139935322721], [1.44577118171870]])\n",
      "Matrix([[0.843242849955560], [1.49043386574326], [0.229868231185839], [0.917530426756795], [0.728349220092267], [1.28457130425739]])\n",
      "Matrix([[0.850532821847018], [0.123853925193258], [0.0711710651528545], [0.549377590569730], [0.793115473230840], [1.05991874696815]])\n",
      "Matrix([[0.764589595016072], [0.105926348921598], [1.21326370513764], [0.818430442000863], [1.23508746576673], [1.37749002173677]])\n",
      "Matrix([[1.46328272900125], [0.687471338174700], [0.240267510190296], [1.18312464495649], [1.39838177030996], [0.324810790655836]])\n",
      "Matrix([[0.176910541201835], [0.906369782003361], [0.680838068304085], [1.27313289833343], [0.231598985574685], [0.956461387722839]])\n",
      "Matrix([[0.161314616758586], [1.15307747296134], [0.725817967575662], [1.02752852313354], [0.0636463346019121], [0.893141040914529]])\n",
      "Matrix([[0.182081527896010], [1.42117736383739], [0.806738715580369], [0.686237850803555], [1.44807993671462], [0.764716256399802]])\n",
      "Matrix([[0.137718846450654], [0.282140024059692], [1.38115413651318], [0.134222392462246], [0.588172491503530], [0.291200746670347]])\n",
      "Matrix([[1.37596067291325], [0.905660065905527], [0.738044850119850], [0.253049967762163], [1.41148944048147], [1.32161563177526]])\n",
      "Matrix([[0.521133044780267], [0.641396217707942], [0.447930797220415], [0.900615415875721], [0.0268315318479591], [0.260020769298386]])\n",
      "Matrix([[0.342002087349728], [0.830326414855098], [0.735388890856346], [0.850144570559477], [1.36839397054643], [0.333449305016953]])\n",
      "Matrix([[0.181614807636082], [1.11805316296643], [1.19038212229768], [0.731644747325902], [0.928551911841980], [0.410279366405293]])\n",
      "Matrix([[0.262045849269241], [1.27881433210244], [1.12086834772089], [0.519504540144115], [0.872313086131278], [0.267887752737694]])\n",
      "Matrix([[0.453599785436378], [1.39240357800790], [0.692808887652767], [0.133052850605262], [1.18486045383867], [0.000629789376371703]])\n",
      "Matrix([[0.647949404743392], [1.03896114641278], [0.609417512719872], [0.153198571054534], [0.942193863736655], [1.24782839701373]])\n",
      "Matrix([[0.441690777371832], [1.27397976400734], [1.45083468855319], [0.116862520242256], [0.189628155933800], [1.34071935510320]])\n",
      "Matrix([[0.873388998222769], [1.47908656764929], [0.300100805794913], [0.787072075172467], [1.19984376704581], [0.866023599942868]])\n",
      "Matrix([[1.00918236930511], [0.123735941283749], [1.47541437046691], [0.453735413763830], [1.51663064733385], [0.624519979898768]])\n",
      "Matrix([[0.853377042360593], [1.14102080732104], [0.869951601543221], [1.45937071460924], [0.598641150354837], [0.0742613255892923]])\n",
      "Matrix([[0.744210521299270], [1.38720929744223], [0.960996750141220], [1.40173099106571], [0.342982113306581], [0.104851049980273]])\n",
      "Matrix([[0.683161972819005], [0.0472221131180499], [0.997119890963837], [1.28235006404299], [0.118383089267821], [0.0661997144110104]])\n",
      "Matrix([[0.969428959124233], [0.122550857024590], [0.777492073837619], [0.0203946944103675], [1.53853337163988], [0.304383475172019]])\n",
      "Matrix([[0.475897165974242], [0.531312262022006], [0.965860579890730], [0.170875268485940], [0.495911122002974], [1.16919441149506]])\n",
      "Matrix([[1.39207938377324], [0.604001461883059], [0.619328644875219], [0.459624398323292], [1.17533241779454], [0.705165197043290]])\n",
      "Matrix([[0.975842911715185], [1.03248223511935], [0.629910740532554], [1.19162744541077], [1.19488255968328], [0.239691535816463]])\n",
      "Matrix([[0.652586474040967], [1.37545922055700], [1.22972548201983], [1.17484183829726], [0.638174031788457], [0.503571345028219]])\n",
      "Matrix([[0.614886646767109], [0.0521982696625329], [1.33845455357956], [1.12530627220090], [0.372419452270456], [0.501593714969615]])\n",
      "Matrix([[0.526149185076332], [0.185245236388114], [0.0487326485479382], [1.52752684280470], [0.135789990779183], [0.790222511557682]])\n",
      "Matrix([[0.220657776544418], [0.262141833423202], [0.383782024046262], [0.118037505780306], [0.0743946443699479], [1.02778061102915]])\n",
      "Matrix([[0.00869770336464892], [0.191868805012690], [0.188521151110145], [0.775002509701590], [0.364334176847529], [1.41385775844273]])\n",
      "Matrix([[0.668164508814754], [0.0552644144322236], [1.41725705951355], [1.28298319222326], [0.0240927665871974], [0.208260864292887]])\n",
      "Matrix([[0.638607301661883], [0.0825374726719250], [1.46287287060499], [0.0548511103962346], [1.55083049463255], [0.467813810113437]])\n",
      "Matrix([[0.617001669979516], [1.07362158089160], [1.01873552763955], [1.28119269358469], [0.817737922416638], [0.140681848436481]])\n",
      "Matrix([[0.503030515481456], [1.38784245521152], [1.30106729123832], [1.32080452974128], [0.445886765796359], [0.314852772433424]])\n"
     ]
    }
   ],
   "source": [
    "# generate poses for each iteration to draw the crcle\n",
    "\n",
    "poses = generate_poses(j)"
   ]
  },
  {
   "cell_type": "code",
   "execution_count": 24,
   "metadata": {},
   "outputs": [
    {
     "name": "stdout",
     "output_type": "stream",
     "text": [
      "Matrix([[0], [0], [0.225000000000000], [1]])\n",
      "Matrix([[0.127040197050682], [0.00127044431893310], [0.0970073093284197], [1]])\n",
      "Matrix([[0.00523530509117013], [0.141138032949372], [0.0886025870091373], [1]])\n",
      "Matrix([[0.0177591895210178], [0.121516426251246], [0.134179551049453], [1]])\n",
      "Matrix([[0.0648088676887354], [0.115129826646921], [0.0717017372993884], [1]])\n",
      "Matrix([[0.0713209321513392], [0.109770540518599], [0.130542521490901], [1]])\n",
      "Matrix([[0.0908440695998709], [0.0960894906089300], [0.137419211438939], [1]])\n",
      "Matrix([[0.120095610035561], [0.0916853990439236], [0.102605152173677], [1]])\n",
      "Matrix([[0.0166825167652608], [0.0285253517938070], [0.207756066045047], [1]])\n",
      "Matrix([[0.0729910063287330], [0.0524663955292321], [0.172859456867096], [1]])\n",
      "Matrix([[0.0490649754536558], [0.0840041778759271], [0.170091868691315], [1]])\n",
      "Matrix([[0.0989586988684691], [0.0578332290458908], [0.154234410367544], [1]])\n",
      "Matrix([[0.145520697451414], [0.0254596563987332], [0.0818142681924195], [1]])\n",
      "Matrix([[0.0651585221795514], [0.0407779185226704], [0.196715001278094], [1]])\n",
      "Matrix([[0.0200125311651150], [0.124029568577982], [-0.0195204282793890], [1]])\n",
      "Matrix([[0.0918854423297801], [0.0900191796672607], [0.0271172371139123], [1]])\n",
      "Matrix([[0.105182817610025], [0.0886037507305386], [0.0203078242418197], [1]])\n",
      "Matrix([[0.117575686844585], [0.0879233415060563], [0.0136464994222533], [1]])\n",
      "Matrix([[0.0515441985247222], [0.00399192044924517], [0.196958935191518], [1]])\n",
      "Matrix([[0.0447490997171089], [0.0665407528387143], [0.160403218018485], [1]])\n",
      "Matrix([[0.00920148413190823], [0.151678680493691], [0.0590977398978500], [1]])\n",
      "Matrix([[0.136774099359891], [0.0644399814900791], [0.0748999797821916], [1]])\n",
      "Matrix([[0.148292024586531], [0.0618568394570014], [0.0635654742828382], [1]])\n",
      "Matrix([[0.146920702439021], [0.0432121181291394], [-0.00518477430145852], [1]])\n",
      "Matrix([[0.0584253734525563], [0.00778346687748927], [0.213591216302808], [1]])\n",
      "Matrix([[0.0612063521039920], [0.124829616380768], [0.0920511378783815], [1]])\n",
      "Matrix([[0.109783322515429], [0.103985753869588], [0.116670662604806], [1]])\n",
      "Matrix([[0.131278730426149], [0.0921759742907229], [0.0833320797583264], [1]])\n",
      "Matrix([[0.145648301143304], [0.0819867611758608], [0.0747752757393518], [1]])\n",
      "Matrix([[0.153660621105167], [0.0820227846985233], [0.0620147242022114], [1]])\n",
      "Matrix([[0.155809177116022], [0.0872289203095977], [0.0646866775175616], [1]])\n",
      "Matrix([[0.132141787762297], [0.0376203489938380], [0.109769864368519], [1]])\n",
      "Matrix([[0.143376433569517], [0.0131960963140482], [0.0809921023306253], [1]])\n",
      "Matrix([[0.112505596295642], [0.0977653696665312], [-0.0100702267912020], [1]])\n",
      "Matrix([[-0.00471332397939569], [0.0720931152391357], [0.197455394294148], [1]])\n",
      "Matrix([[0.000367128644904118], [0.135932504400927], [0.00575794799872472], [1]])\n",
      "Matrix([[0.00727023966244284], [0.135398699086212], [-0.00687136664585357], [1]])\n",
      "Matrix([[-0.00843847369366440], [0.116037931886342], [0.139833633055836], [1]])\n",
      "Matrix([[0.0295761916603121], [0.0227105650393253], [0.219201125949866], [1]])\n",
      "Matrix([[0.0892037797114630], [-0.00199845539008608], [0.173502400815395], [1]])\n",
      "Matrix([[0.0329702728541783], [0.127385708975365], [0.150512073192005], [1]])\n",
      "Matrix([[0.0357908757188002], [0.147239533314291], [0.0191041786234398], [1]])\n",
      "Matrix([[0.0539320087779406], [0.146491381998034], [0.0221587384071794], [1]])\n",
      "Matrix([[-0.0182473567391240], [0.0914213955300086], [0.175976821560096], [1]])\n",
      "Matrix([[0.102809821244796], [0.0586917250908395], [0.131292568834296], [1]])\n",
      "Matrix([[0.00987286777825334], [-0.0168221202321530], [0.205337924869988], [1]])\n",
      "Matrix([[0.0409951695590224], [-0.0187029561477222], [0.188150707459317], [1]])\n",
      "Matrix([[-0.0494732452078164], [0.0997582762697323], [0.149477203069639], [1]])\n",
      "Matrix([[0.0318564609900912], [0.0270611919836883], [0.215554179343506], [1]])\n",
      "Matrix([[0.0427507116778423], [0.144126632247794], [0.0359249702978986], [1]])\n",
      "Matrix([[0.0467621242536236], [0.143497601799296], [0.0279154230642619], [1]])\n"
     ]
    }
   ],
   "source": [
    "ee_positions = get_end_affector_position(transformation_matrices[-1], poses)"
   ]
  },
  {
   "cell_type": "code",
   "execution_count": 26,
   "metadata": {},
   "outputs": [
    {
     "data": {
      "text/plain": [
       "<matplotlib.collections.PathCollection at 0x7fa512163040>"
      ]
     },
     "execution_count": 26,
     "metadata": {},
     "output_type": "execute_result"
    },
    {
     "data": {
      "image/png": "[encoded data removed]",
      "text/plain": [
       "<Figure size 432x288 with 1 Axes>"
      ]
     },
     "metadata": {
      "needs_background": "light"
     },
     "output_type": "display_data"
    }
   ],
   "source": [
    "from matplotlib import pyplot as plt\n",
    "\n",
    "\n",
    "plt.scatter(ee_positions[0], ee_positions[2])\n",
    "\n",
    "\n",
    "# its skewing to the left by about 11, not sure why"
   ]
  },
  {
   "cell_type": "code",
   "execution_count": null,
   "metadata": {},
   "outputs": [],
   "source": []
  }
 ],
 "metadata": {
  "interpreter": {
   "hash": "e7370f93d1d0cde622a1f8e1c04877d8463912d04d973331ad4851f04de6915a"
  },
  "kernelspec": {
   "display_name": "Python 3.8.10 64-bit",
   "language": "python",
   "name": "python3"
  },
  "language_info": {
   "codemirror_mode": {
    "name": "ipython",
    "version": 3
   },
   "file_extension": ".py",
   "mimetype": "text/x-python",
   "name": "python",
   "nbconvert_exporter": "python",
   "pygments_lexer": "ipython3",
   "version": "3.8.10"
  },
  "orig_nbformat": 4
 },
 "nbformat": 4,
 "nbformat_minor": 2
}
